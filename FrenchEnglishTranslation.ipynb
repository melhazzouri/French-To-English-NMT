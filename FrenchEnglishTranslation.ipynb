{
  "nbformat": 4,
  "nbformat_minor": 0,
  "metadata": {
    "colab": {
      "provenance": []
    },
    "kernelspec": {
      "name": "python3",
      "display_name": "Python 3"
    },
    "language_info": {
      "name": "python"
    },
    "accelerator": "GPU",
    "gpuClass": "standard"
  },
  "cells": [
    {
      "cell_type": "markdown",
      "source": [
        "# Machine Translation\n",
        "1- Import Dependanices\n",
        "\n",
        "2- import dataset for training\n",
        "\n",
        "3- Basic EDA and visualization\n",
        "\n",
        "4- Data Cleaning\n",
        "\n",
        "5- Tokenization and build vocabalury\n",
        "\n",
        "6- Pad Sequence and Vectorization\n",
        "\n",
        "7- Train model\n",
        "\n",
        "8- Predictions\n"
      ],
      "metadata": {
        "id": "hFbvkhZOOuGO"
      }
    },
    {
      "cell_type": "markdown",
      "source": [
        "# Import Libraries"
      ],
      "metadata": {
        "id": "JpvftB5_PiHP"
      }
    },
    {
      "cell_type": "code",
      "source": [
        "# basic libs\n",
        "import numpy as np\n",
        "import pandas as pd\n",
        "import matplotlib.pyplot as plt\n",
        "import collections\n",
        "import seaborn as sns\n",
        "%matplotlib inline\n",
        "\n",
        "# cleaning data\n",
        "import re\n",
        "import os\n",
        "import nltk\n",
        "nltk.download(\"stopwords\")\n",
        "nltk.download('punkt')\n",
        "\n",
        "# save vocabulary in files\n",
        "import pickle\n",
        "\n",
        "# tokenization\n",
        "import tensorflow as tf\n",
        "from tensorflow import keras\n",
        "from tensorflow.keras.preprocessing.text import Tokenizer\n",
        "from tensorflow.keras.preprocessing.sequence import pad_sequences\n",
        "from keras.preprocessing.text import Tokenizer\n",
        "from keras.models import Model, Sequential\n",
        "from keras.layers import GRU, Input, Dense, TimeDistributed, Activation, RepeatVector, Bidirectional,LSTM, Dropout\n",
        "from tensorflow.keras.layers import Embedding\n",
        "from keras.optimizers import Adam\n",
        "from keras.losses import sparse_categorical_crossentropy\n",
        "from keras.callbacks import ModelCheckpoint"
      ],
      "metadata": {
        "colab": {
          "base_uri": "https://localhost:8080/"
        },
        "id": "IFEGMzWuOrO9",
        "outputId": "cb6b556e-03e3-48c3-ce46-3cadf54ec4c6"
      },
      "execution_count": 109,
      "outputs": [
        {
          "output_type": "stream",
          "name": "stderr",
          "text": [
            "[nltk_data] Downloading package stopwords to /root/nltk_data...\n",
            "[nltk_data]   Package stopwords is already up-to-date!\n",
            "[nltk_data] Downloading package punkt to /root/nltk_data...\n",
            "[nltk_data]   Package punkt is already up-to-date!\n"
          ]
        }
      ]
    },
    {
      "cell_type": "markdown",
      "source": [
        "# Import Dataset"
      ],
      "metadata": {
        "id": "m2JbDQF4Pl1Q"
      }
    },
    {
      "cell_type": "code",
      "source": [
        "df = pd.read_csv(\"fra.txt\",delimiter=\"\\t\",names=[\"English\",\"French\"])\n",
        "df.head()"
      ],
      "metadata": {
        "colab": {
          "base_uri": "https://localhost:8080/",
          "height": 206
        },
        "id": "X2mKn-K3uAHQ",
        "outputId": "d096e97e-8c05-4173-8eaa-ccb55ee63194"
      },
      "execution_count": 110,
      "outputs": [
        {
          "output_type": "execute_result",
          "data": {
            "text/plain": [
              "  English      French\n",
              "0     Go.        Va !\n",
              "1    Run!     Cours !\n",
              "2    Run!    Courez !\n",
              "3    Wow!  Ça alors !\n",
              "4   Fire!    Au feu !"
            ],
            "text/html": [
              "\n",
              "  <div id=\"df-7b7447ac-ead7-4079-adbb-2a6792cc1f17\">\n",
              "    <div class=\"colab-df-container\">\n",
              "      <div>\n",
              "<style scoped>\n",
              "    .dataframe tbody tr th:only-of-type {\n",
              "        vertical-align: middle;\n",
              "    }\n",
              "\n",
              "    .dataframe tbody tr th {\n",
              "        vertical-align: top;\n",
              "    }\n",
              "\n",
              "    .dataframe thead th {\n",
              "        text-align: right;\n",
              "    }\n",
              "</style>\n",
              "<table border=\"1\" class=\"dataframe\">\n",
              "  <thead>\n",
              "    <tr style=\"text-align: right;\">\n",
              "      <th></th>\n",
              "      <th>English</th>\n",
              "      <th>French</th>\n",
              "    </tr>\n",
              "  </thead>\n",
              "  <tbody>\n",
              "    <tr>\n",
              "      <th>0</th>\n",
              "      <td>Go.</td>\n",
              "      <td>Va !</td>\n",
              "    </tr>\n",
              "    <tr>\n",
              "      <th>1</th>\n",
              "      <td>Run!</td>\n",
              "      <td>Cours !</td>\n",
              "    </tr>\n",
              "    <tr>\n",
              "      <th>2</th>\n",
              "      <td>Run!</td>\n",
              "      <td>Courez !</td>\n",
              "    </tr>\n",
              "    <tr>\n",
              "      <th>3</th>\n",
              "      <td>Wow!</td>\n",
              "      <td>Ça alors !</td>\n",
              "    </tr>\n",
              "    <tr>\n",
              "      <th>4</th>\n",
              "      <td>Fire!</td>\n",
              "      <td>Au feu !</td>\n",
              "    </tr>\n",
              "  </tbody>\n",
              "</table>\n",
              "</div>\n",
              "      <button class=\"colab-df-convert\" onclick=\"convertToInteractive('df-7b7447ac-ead7-4079-adbb-2a6792cc1f17')\"\n",
              "              title=\"Convert this dataframe to an interactive table.\"\n",
              "              style=\"display:none;\">\n",
              "        \n",
              "  <svg xmlns=\"http://www.w3.org/2000/svg\" height=\"24px\"viewBox=\"0 0 24 24\"\n",
              "       width=\"24px\">\n",
              "    <path d=\"M0 0h24v24H0V0z\" fill=\"none\"/>\n",
              "    <path d=\"M18.56 5.44l.94 2.06.94-2.06 2.06-.94-2.06-.94-.94-2.06-.94 2.06-2.06.94zm-11 1L8.5 8.5l.94-2.06 2.06-.94-2.06-.94L8.5 2.5l-.94 2.06-2.06.94zm10 10l.94 2.06.94-2.06 2.06-.94-2.06-.94-.94-2.06-.94 2.06-2.06.94z\"/><path d=\"M17.41 7.96l-1.37-1.37c-.4-.4-.92-.59-1.43-.59-.52 0-1.04.2-1.43.59L10.3 9.45l-7.72 7.72c-.78.78-.78 2.05 0 2.83L4 21.41c.39.39.9.59 1.41.59.51 0 1.02-.2 1.41-.59l7.78-7.78 2.81-2.81c.8-.78.8-2.07 0-2.86zM5.41 20L4 18.59l7.72-7.72 1.47 1.35L5.41 20z\"/>\n",
              "  </svg>\n",
              "      </button>\n",
              "      \n",
              "  <style>\n",
              "    .colab-df-container {\n",
              "      display:flex;\n",
              "      flex-wrap:wrap;\n",
              "      gap: 12px;\n",
              "    }\n",
              "\n",
              "    .colab-df-convert {\n",
              "      background-color: #E8F0FE;\n",
              "      border: none;\n",
              "      border-radius: 50%;\n",
              "      cursor: pointer;\n",
              "      display: none;\n",
              "      fill: #1967D2;\n",
              "      height: 32px;\n",
              "      padding: 0 0 0 0;\n",
              "      width: 32px;\n",
              "    }\n",
              "\n",
              "    .colab-df-convert:hover {\n",
              "      background-color: #E2EBFA;\n",
              "      box-shadow: 0px 1px 2px rgba(60, 64, 67, 0.3), 0px 1px 3px 1px rgba(60, 64, 67, 0.15);\n",
              "      fill: #174EA6;\n",
              "    }\n",
              "\n",
              "    [theme=dark] .colab-df-convert {\n",
              "      background-color: #3B4455;\n",
              "      fill: #D2E3FC;\n",
              "    }\n",
              "\n",
              "    [theme=dark] .colab-df-convert:hover {\n",
              "      background-color: #434B5C;\n",
              "      box-shadow: 0px 1px 3px 1px rgba(0, 0, 0, 0.15);\n",
              "      filter: drop-shadow(0px 1px 2px rgba(0, 0, 0, 0.3));\n",
              "      fill: #FFFFFF;\n",
              "    }\n",
              "  </style>\n",
              "\n",
              "      <script>\n",
              "        const buttonEl =\n",
              "          document.querySelector('#df-7b7447ac-ead7-4079-adbb-2a6792cc1f17 button.colab-df-convert');\n",
              "        buttonEl.style.display =\n",
              "          google.colab.kernel.accessAllowed ? 'block' : 'none';\n",
              "\n",
              "        async function convertToInteractive(key) {\n",
              "          const element = document.querySelector('#df-7b7447ac-ead7-4079-adbb-2a6792cc1f17');\n",
              "          const dataTable =\n",
              "            await google.colab.kernel.invokeFunction('convertToInteractive',\n",
              "                                                     [key], {});\n",
              "          if (!dataTable) return;\n",
              "\n",
              "          const docLinkHtml = 'Like what you see? Visit the ' +\n",
              "            '<a target=\"_blank\" href=https://colab.research.google.com/notebooks/data_table.ipynb>data table notebook</a>'\n",
              "            + ' to learn more about interactive tables.';\n",
              "          element.innerHTML = '';\n",
              "          dataTable['output_type'] = 'display_data';\n",
              "          await google.colab.output.renderOutput(dataTable, element);\n",
              "          const docLink = document.createElement('div');\n",
              "          docLink.innerHTML = docLinkHtml;\n",
              "          element.appendChild(docLink);\n",
              "        }\n",
              "      </script>\n",
              "    </div>\n",
              "  </div>\n",
              "  "
            ]
          },
          "metadata": {},
          "execution_count": 110
        }
      ]
    },
    {
      "cell_type": "code",
      "source": [
        "df.info()"
      ],
      "metadata": {
        "colab": {
          "base_uri": "https://localhost:8080/"
        },
        "id": "2eR5Dl-HupHw",
        "outputId": "4b31a1a5-4f99-43fd-e080-4fadd0e0910d"
      },
      "execution_count": 111,
      "outputs": [
        {
          "output_type": "stream",
          "name": "stdout",
          "text": [
            "<class 'pandas.core.frame.DataFrame'>\n",
            "RangeIndex: 145437 entries, 0 to 145436\n",
            "Data columns (total 2 columns):\n",
            " #   Column   Non-Null Count   Dtype \n",
            "---  ------   --------------   ----- \n",
            " 0   English  145437 non-null  object\n",
            " 1   French   145437 non-null  object\n",
            "dtypes: object(2)\n",
            "memory usage: 2.2+ MB\n"
          ]
        }
      ]
    },
    {
      "cell_type": "code",
      "source": [
        "df = df [:20000]"
      ],
      "metadata": {
        "id": "U75fDnuAzkjG"
      },
      "execution_count": 112,
      "outputs": []
    },
    {
      "cell_type": "markdown",
      "source": [
        "# Basic EDA and visualization"
      ],
      "metadata": {
        "id": "QhnxPii6PpFA"
      }
    },
    {
      "cell_type": "code",
      "source": [
        "english_sentences = df['English']\n",
        "french_sentences = df['French']\n",
        "english_words_counter = collections.Counter([word for sentence in english_sentences for word in sentence.split()])\n",
        "french_words_counter = collections.Counter([word for sentence in french_sentences for word in sentence.split()])\n",
        "\n",
        "print('{} English words.'.format(len([word for sentence in english_sentences for word in sentence.split()])))\n",
        "print('{} unique English words.'.format(len(english_words_counter)))\n",
        "print('10 Most common words in the English dataset:')\n",
        "print('\"' + '\" \"'.join(list(zip(*english_words_counter.most_common(10)))[0]) + '\"')\n",
        "print()\n",
        "print('{} French words.'.format(len([word for sentence in french_sentences for word in sentence.split()])))\n",
        "print('{} unique French words.'.format(len(french_words_counter)))\n",
        "print('10 Most common words in the French dataset:')\n",
        "print('\"' + '\" \"'.join(list(zip(*french_words_counter.most_common(10)))[0]) + '\"')"
      ],
      "metadata": {
        "colab": {
          "base_uri": "https://localhost:8080/"
        },
        "id": "FFjgJJs0u9di",
        "outputId": "11ed31da-a5c7-4de3-a8fe-9b1bfeb81c56"
      },
      "execution_count": 32,
      "outputs": [
        {
          "output_type": "stream",
          "name": "stdout",
          "text": [
            "65086 English words.\n",
            "5266 unique English words.\n",
            "10 Most common words in the English dataset:\n",
            "\"I\" \"a\" \"you\" \"I'm\" \"is\" \"He\" \"You're\" \"You\" \"We\" \"the\"\n",
            "\n",
            "77730 French words.\n",
            "9507 unique French words.\n",
            "10 Most common words in the French dataset:\n",
            "\"Je\" \"?\" \"!\" \"pas\" \"Il\" \"suis\" \"de\" \"Nous\" \"est\" \"le\"\n"
          ]
        }
      ]
    },
    {
      "cell_type": "code",
      "source": [
        "word_count = df['English'].str.split().apply(len).value_counts()\n",
        "word_dict = dict(word_count)\n",
        "word_dict = dict(sorted(word_dict.items(), key=lambda kv: kv[1]))\n",
        "index  = np.arange(len(word_dict))\n",
        "values1 = word_dict.values()\n",
        "plt.figure(figsize=(20,5))\n",
        "plt.bar(index,values1)\n",
        "plt.xlabel('Length of sentences in English')\n",
        "plt.ylabel('occurances')\n",
        "plt.xticks(index,word_dict.keys())\n",
        "plt.show()"
      ],
      "metadata": {
        "colab": {
          "base_uri": "https://localhost:8080/",
          "height": 334
        },
        "id": "kM1zarNuOEBF",
        "outputId": "5fd0b24a-1342-4bb6-9a12-9b5db39c85de"
      },
      "execution_count": 106,
      "outputs": [
        {
          "output_type": "display_data",
          "data": {
            "text/plain": [
              "<Figure size 1440x360 with 1 Axes>"
            ],
            "image/png": "[encoded data removed]"
          },
          "metadata": {
            "needs_background": "light"
          }
        }
      ]
    },
    {
      "cell_type": "code",
      "source": [
        "word_count = df['French'].str.split().apply(len).value_counts()\n",
        "word_dict = dict(word_count)\n",
        "word_dict = dict(sorted(word_dict.items(), key=lambda kv: kv[1]))\n",
        "index  = np.arange(len(word_dict))\n",
        "values1 = word_dict.values()\n",
        "plt.figure(figsize=(20,5))\n",
        "plt.bar(index,values1)\n",
        "plt.xlabel('Length of sentences in French')\n",
        "plt.ylabel('occurances')\n",
        "plt.xticks(index,word_dict.keys())\n",
        "plt.show()"
      ],
      "metadata": {
        "colab": {
          "base_uri": "https://localhost:8080/",
          "height": 334
        },
        "id": "Rm5AWp45OELl",
        "outputId": "a309e636-cbf4-4cd2-d263-a55528195d6f"
      },
      "execution_count": 107,
      "outputs": [
        {
          "output_type": "display_data",
          "data": {
            "text/plain": [
              "<Figure size 1440x360 with 1 Axes>"
            ],
            "image/png": "[encoded data removed]"
          },
          "metadata": {
            "needs_background": "light"
          }
        }
      ]
    },
    {
      "cell_type": "markdown",
      "source": [
        "# Data Cleaning"
      ],
      "metadata": {
        "id": "jwyC-IIaP4pY"
      }
    },
    {
      "cell_type": "code",
      "source": [
        "# clean english column\n",
        "def clean_english(text):\n",
        "  text=text.lower() # lower case\n",
        "\n",
        "  # remove any characters not a-z and ?!,'\n",
        "  text=re.sub(u\"[^a-z!?',]\",\" \",text)\n",
        "\n",
        "  # word tokenization\n",
        "  text=nltk.word_tokenize(text)\n",
        "\n",
        "  # join text\n",
        "  text=\" \".join([i.strip() for i in text])\n",
        "\n",
        "  return text"
      ],
      "metadata": {
        "id": "CvBl9CKHvirz"
      },
      "execution_count": 33,
      "outputs": []
    },
    {
      "cell_type": "code",
      "source": [
        "# clean frensh language\n",
        "def clean_frensh(text):\n",
        "  text=text.lower() # lower case\n",
        "\n",
        "  # remove any characters not a-z and ?!,'\n",
        "  # characters a-z and (éâàçêêëôîû) chars of french  which contain accent\n",
        "  text=re.sub(u\"[^a-zéâàçêêëôîû!?',]\",\" \",text)\n",
        "\n",
        "  return text"
      ],
      "metadata": {
        "id": "Gil1U691wRFb"
      },
      "execution_count": 34,
      "outputs": []
    },
    {
      "cell_type": "code",
      "source": [
        "df[\"English\"]=df[\"English\"].apply(lambda txt:clean_english(txt))"
      ],
      "metadata": {
        "id": "HjAbOk63wVBl"
      },
      "execution_count": 35,
      "outputs": []
    },
    {
      "cell_type": "code",
      "source": [
        "df[\"French\"]=df[\"French\"].apply(lambda txt:clean_frensh(txt))"
      ],
      "metadata": {
        "id": "fQ7lUICDwgg1"
      },
      "execution_count": 36,
      "outputs": []
    },
    {
      "cell_type": "markdown",
      "source": [
        "# Tokenization"
      ],
      "metadata": {
        "id": "lI-fzVjpP8KY"
      }
    },
    {
      "cell_type": "code",
      "source": [
        "def tokenize(x):\n",
        "    \n",
        "    tokenizer = Tokenizer()\n",
        "    tokenizer.fit_on_texts(x)\n",
        "    return tokenizer.texts_to_sequences(x), tokenizer"
      ],
      "metadata": {
        "id": "sZGI3hHvw9Cf"
      },
      "execution_count": 37,
      "outputs": []
    },
    {
      "cell_type": "markdown",
      "source": [
        "# Padding"
      ],
      "metadata": {
        "id": "bO12dO24QU15"
      }
    },
    {
      "cell_type": "code",
      "source": [
        "def pad(x, length=None):\n",
        "    if length is None:\n",
        "        length = max([len(sentence) for sentence in x])\n",
        "    return pad_sequences(x, maxlen = 55, padding = 'post')"
      ],
      "metadata": {
        "id": "qg1JgsS8xAm2"
      },
      "execution_count": 38,
      "outputs": []
    },
    {
      "cell_type": "markdown",
      "source": [
        "# Preprocess pipeline"
      ],
      "metadata": {
        "id": "BNRzk7dyQXF5"
      }
    },
    {
      "cell_type": "code",
      "source": [
        "def preprocess(x, y):\n",
        "   \n",
        "    preprocess_x, x_tk = tokenize(x)\n",
        "    preprocess_y, y_tk = tokenize(y)\n",
        "\n",
        "    preprocess_x = pad(preprocess_x)\n",
        "    preprocess_y = pad(preprocess_y)\n",
        "\n",
        "    # Keras's sparse_categorical_crossentropy function requires the labels to be in 3 dimensions\n",
        "    preprocess_y = preprocess_y.reshape(*preprocess_y.shape, 1)\n",
        "\n",
        "    return preprocess_x, preprocess_y, x_tk, y_tk"
      ],
      "metadata": {
        "id": "f4c-jeLvxDFH"
      },
      "execution_count": 39,
      "outputs": []
    },
    {
      "cell_type": "code",
      "source": [
        "preproc_english_sentences, preproc_french_sentences, english_tokenizer, french_tokenizer = preprocess(english_sentences, french_sentences)"
      ],
      "metadata": {
        "id": "C5JdafucxIkH"
      },
      "execution_count": 40,
      "outputs": []
    },
    {
      "cell_type": "code",
      "source": [
        "max_english_sequence_length = preproc_english_sentences.shape[1]\n",
        "max_french_sequence_length = preproc_french_sentences.shape[1]\n",
        "english_vocab_size = len(english_tokenizer.word_index)\n",
        "french_vocab_size = len(french_tokenizer.word_index)"
      ],
      "metadata": {
        "id": "OkS02uYUxOnX"
      },
      "execution_count": 41,
      "outputs": []
    },
    {
      "cell_type": "code",
      "source": [
        "print(\"Max English sentence length:\", max_english_sequence_length)\n",
        "print(\"Max French sentence length:\", max_french_sequence_length)\n",
        "print(\"English vocabulary size:\", english_vocab_size)\n",
        "print(\"French vocabulary size:\", french_vocab_size)"
      ],
      "metadata": {
        "colab": {
          "base_uri": "https://localhost:8080/"
        },
        "id": "XdxcCXXYxeLo",
        "outputId": "c0dcd434-100d-4762-af4e-5fbcee0e10b4"
      },
      "execution_count": 42,
      "outputs": [
        {
          "output_type": "stream",
          "name": "stdout",
          "text": [
            "Max English sentence length: 55\n",
            "Max French sentence length: 55\n",
            "English vocabulary size: 3378\n",
            "French vocabulary size: 6665\n"
          ]
        }
      ]
    },
    {
      "cell_type": "markdown",
      "source": [
        " Convert the final prediction by our model into text form"
      ],
      "metadata": {
        "id": "PgrvNNd-QumS"
      }
    },
    {
      "cell_type": "code",
      "source": [
        "def logits_to_text(logits, tokenizer):\n",
        "    \n",
        "    index_to_words = {id: word for word, id in tokenizer.word_index.items()}\n",
        "    index_to_words[0] = '<PAD>'\n",
        "\n",
        "    return ' '.join([index_to_words[prediction] for prediction in np.argmax(logits, 1)])"
      ],
      "metadata": {
        "id": "DFRWUUO5xfBY"
      },
      "execution_count": 43,
      "outputs": []
    },
    {
      "cell_type": "markdown",
      "source": [
        "# Model"
      ],
      "metadata": {
        "id": "vUzlc7tZQxma"
      }
    },
    {
      "cell_type": "code",
      "source": [
        "def model(input_shape, output_sequence_length, english_vocab_size, french_vocab_size):\n",
        "    \n",
        "    learning_rate = 0.003\n",
        "    \n",
        "    # Build the layers\n",
        "    model = Sequential()\n",
        "    model.add(Embedding(french_vocab_size, 256, input_length=input_shape[1], input_shape=input_shape[1:]))\n",
        "    model.add(Bidirectional(GRU(256, return_sequences=True)))\n",
        "    model.add(TimeDistributed(Dense(1024, activation='relu')))\n",
        "    model.add(Dropout(0.5))\n",
        "    model.add(TimeDistributed(Dense(english_vocab_size, activation='softmax'))) \n",
        "\n",
        "    # Compile model\n",
        "    model.compile(loss=sparse_categorical_crossentropy,\n",
        "                  optimizer=Adam(learning_rate),\n",
        "                  metrics=['accuracy'])\n",
        "    return model"
      ],
      "metadata": {
        "id": "6YQXRktgxlBI"
      },
      "execution_count": 44,
      "outputs": []
    },
    {
      "cell_type": "code",
      "source": [
        "preproc_english_sentences.shape"
      ],
      "metadata": {
        "colab": {
          "base_uri": "https://localhost:8080/"
        },
        "id": "Zw6BpZhZxpn4",
        "outputId": "0a3c6e0c-8f4a-49dd-903c-c89ab89751d6"
      },
      "execution_count": 45,
      "outputs": [
        {
          "output_type": "execute_result",
          "data": {
            "text/plain": [
              "(20000, 55)"
            ]
          },
          "metadata": {},
          "execution_count": 45
        }
      ]
    },
    {
      "cell_type": "code",
      "source": [
        "tmp_x = pad(preproc_french_sentences, preproc_french_sentences.shape[1])\n",
        "tmp_x = tmp_x.reshape((-1, preproc_french_sentences.shape[-2]))"
      ],
      "metadata": {
        "id": "B3nTtITRxvWY"
      },
      "execution_count": 46,
      "outputs": []
    },
    {
      "cell_type": "code",
      "source": [
        "model = model(\n",
        "    tmp_x.shape,\n",
        "    preproc_english_sentences.shape[1],\n",
        "    len(english_tokenizer.word_index)+1,\n",
        "    len(french_tokenizer.word_index)+1)\n",
        "\n",
        "model.summary()\n"
      ],
      "metadata": {
        "colab": {
          "base_uri": "https://localhost:8080/"
        },
        "id": "mZFmfIkDyEiJ",
        "outputId": "d1c7c2af-6d8b-421d-fc09-e55fb7e59497"
      },
      "execution_count": 47,
      "outputs": [
        {
          "output_type": "stream",
          "name": "stdout",
          "text": [
            "Model: \"sequential_1\"\n",
            "_________________________________________________________________\n",
            " Layer (type)                Output Shape              Param #   \n",
            "=================================================================\n",
            " embedding_1 (Embedding)     (None, 55, 256)           1706496   \n",
            "                                                                 \n",
            " bidirectional_1 (Bidirectio  (None, 55, 512)          789504    \n",
            " nal)                                                            \n",
            "                                                                 \n",
            " time_distributed_2 (TimeDis  (None, 55, 1024)         525312    \n",
            " tributed)                                                       \n",
            "                                                                 \n",
            " dropout_1 (Dropout)         (None, 55, 1024)          0         \n",
            "                                                                 \n",
            " time_distributed_3 (TimeDis  (None, 55, 3379)         3463475   \n",
            " tributed)                                                       \n",
            "                                                                 \n",
            "=================================================================\n",
            "Total params: 6,484,787\n",
            "Trainable params: 6,484,787\n",
            "Non-trainable params: 0\n",
            "_________________________________________________________________\n"
          ]
        }
      ]
    },
    {
      "cell_type": "code",
      "source": [
        "model.fit(tmp_x, preproc_english_sentences, batch_size=64, epochs=5, validation_split=0.2)"
      ],
      "metadata": {
        "colab": {
          "base_uri": "https://localhost:8080/"
        },
        "id": "G6I1uLhcyPWq",
        "outputId": "2587bf2a-0743-4abc-9211-84e42ffe9abf"
      },
      "execution_count": 48,
      "outputs": [
        {
          "output_type": "stream",
          "name": "stdout",
          "text": [
            "Epoch 1/5\n",
            "250/250 [==============================] - 16s 51ms/step - loss: 0.5970 - accuracy: 0.9410 - val_loss: 0.3875 - val_accuracy: 0.9426\n",
            "Epoch 2/5\n",
            "250/250 [==============================] - 12s 49ms/step - loss: 0.2750 - accuracy: 0.9567 - val_loss: 0.3450 - val_accuracy: 0.9491\n",
            "Epoch 3/5\n",
            "250/250 [==============================] - 12s 49ms/step - loss: 0.2350 - accuracy: 0.9608 - val_loss: 0.3261 - val_accuracy: 0.9528\n",
            "Epoch 4/5\n",
            "250/250 [==============================] - 12s 49ms/step - loss: 0.2037 - accuracy: 0.9642 - val_loss: 0.3185 - val_accuracy: 0.9550\n",
            "Epoch 5/5\n",
            "250/250 [==============================] - 12s 48ms/step - loss: 0.1778 - accuracy: 0.9672 - val_loss: 0.3074 - val_accuracy: 0.9569\n"
          ]
        },
        {
          "output_type": "execute_result",
          "data": {
            "text/plain": [
              "<keras.callbacks.History at 0x7ff08c276d60>"
            ]
          },
          "metadata": {},
          "execution_count": 48
        }
      ]
    },
    {
      "cell_type": "code",
      "source": [
        "model.save('model.h5')"
      ],
      "metadata": {
        "id": "pY0Jsd4xRTbT"
      },
      "execution_count": 113,
      "outputs": []
    },
    {
      "cell_type": "markdown",
      "source": [
        "# Predictions"
      ],
      "metadata": {
        "id": "KiOxUtyMQ4zh"
      }
    },
    {
      "cell_type": "code",
      "source": [
        "def translation(i):\n",
        "  print (\"French text:\", french_sentences[i])\n",
        "  print (\"\\nEnglish Translation:\", english_sentences[i])\n",
        "  print (\"\\nTranslation:\", logits_to_text(model.predict(tmp_x[[i]])[0], english_tokenizer))"
      ],
      "metadata": {
        "id": "GJ7Xvwcmymtq"
      },
      "execution_count": 93,
      "outputs": []
    },
    {
      "cell_type": "code",
      "source": [
        "print(translation(680))"
      ],
      "metadata": {
        "colab": {
          "base_uri": "https://localhost:8080/"
        },
        "id": "abWYN0FzBwjE",
        "outputId": "10308dce-4d7c-43dd-a1f9-8fc197f04411"
      },
      "execution_count": 94,
      "outputs": [
        {
          "output_type": "stream",
          "name": "stdout",
          "text": [
            "French text: laisse moi m'en aller !\n",
            "\n",
            "English Translation: let me go !\n",
            "1/1 [==============================] - 0s 20ms/step\n",
            "\n",
            "Translation: let me go <PAD> <PAD> <PAD> <PAD> <PAD> <PAD> <PAD> <PAD> <PAD> <PAD> <PAD> <PAD> <PAD> <PAD> <PAD> <PAD> <PAD> <PAD> <PAD> <PAD> <PAD> <PAD> <PAD> <PAD> <PAD> <PAD> <PAD> <PAD> <PAD> <PAD> <PAD> <PAD> <PAD> <PAD> <PAD> <PAD> <PAD> <PAD> <PAD> <PAD> <PAD> <PAD> <PAD> <PAD> <PAD> <PAD> <PAD> <PAD> <PAD> <PAD> <PAD> <PAD>\n",
            "None\n"
          ]
        }
      ]
    },
    {
      "cell_type": "code",
      "source": [
        "print(translation(880))"
      ],
      "metadata": {
        "colab": {
          "base_uri": "https://localhost:8080/"
        },
        "id": "nEXgb_hCMwfh",
        "outputId": "fe88ff19-a69c-4d0b-88ab-fef5663a9170"
      },
      "execution_count": 95,
      "outputs": [
        {
          "output_type": "stream",
          "name": "stdout",
          "text": [
            "French text: soyez sérieuses !\n",
            "\n",
            "English Translation: be serious\n",
            "1/1 [==============================] - 0s 21ms/step\n",
            "\n",
            "Translation: be serious <PAD> <PAD> <PAD> <PAD> <PAD> <PAD> <PAD> <PAD> <PAD> <PAD> <PAD> <PAD> <PAD> <PAD> <PAD> <PAD> <PAD> <PAD> <PAD> <PAD> <PAD> <PAD> <PAD> <PAD> <PAD> <PAD> <PAD> <PAD> <PAD> <PAD> <PAD> <PAD> <PAD> <PAD> <PAD> <PAD> <PAD> <PAD> <PAD> <PAD> <PAD> <PAD> <PAD> <PAD> <PAD> <PAD> <PAD> <PAD> <PAD> <PAD> <PAD> <PAD> <PAD>\n",
            "None\n"
          ]
        }
      ]
    },
    {
      "cell_type": "code",
      "source": [
        "print(translation(2700))"
      ],
      "metadata": {
        "colab": {
          "base_uri": "https://localhost:8080/"
        },
        "id": "7WnThJ-ANXeq",
        "outputId": "3b65180e-3a9f-43bc-cc13-089e86a75bd7"
      },
      "execution_count": 104,
      "outputs": [
        {
          "output_type": "stream",
          "name": "stdout",
          "text": [
            "French text: êtes vous perdue ?\n",
            "\n",
            "English Translation: are you lost ?\n",
            "1/1 [==============================] - 0s 21ms/step\n",
            "\n",
            "Translation: are you lost <PAD> <PAD> <PAD> <PAD> <PAD> <PAD> <PAD> <PAD> <PAD> <PAD> <PAD> <PAD> <PAD> <PAD> <PAD> <PAD> <PAD> <PAD> <PAD> <PAD> <PAD> <PAD> <PAD> <PAD> <PAD> <PAD> <PAD> <PAD> <PAD> <PAD> <PAD> <PAD> <PAD> <PAD> <PAD> <PAD> <PAD> <PAD> <PAD> <PAD> <PAD> <PAD> <PAD> <PAD> <PAD> <PAD> <PAD> <PAD> <PAD> <PAD> <PAD> <PAD>\n",
            "None\n"
          ]
        }
      ]
    }
  ]
}